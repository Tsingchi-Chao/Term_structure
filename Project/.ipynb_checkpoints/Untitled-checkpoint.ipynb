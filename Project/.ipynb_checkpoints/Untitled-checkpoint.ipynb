{
 "cells": [
  {
   "cell_type": "code",
   "execution_count": 2,
   "metadata": {},
   "outputs": [],
   "source": [
    "import pandas as pd\n",
    "import numpy as np\n",
    "import math\n",
    "import time\n",
    "import matplotlib.pyplot as plt"
   ]
  },
  {
   "cell_type": "code",
   "execution_count": 25,
   "metadata": {},
   "outputs": [],
   "source": [
    "class parameter:\n",
    "    \"\"\"parameter\n",
    "    This class is used to calculate the sgima and delta_W.\n",
    "    \"\"\"\n",
    "    \n",
    "    def __init__(self,n:int,sigma:float,K:float,mu:float=0,std:float=math.sqrt(0.5)):\n",
    "        \"\"\"\n",
    "        Args:\n",
    "            n:The number of simulated values.这里生成随机数采用了一次性生成n个随机数，主要可以提升计算的速度。\n",
    "            sigma: The sigma of the f(t,T),这里是f(t,T)中的随机项，不是P(t,T)中的随机项。\n",
    "            K:The K of the Hull-white model.\n",
    "            mu:The expected value of delta_W,here W is a standard brownian motion,and delta_W is the change.\n",
    "            std:The standard deviation of the delta_W.\n",
    "            \n",
    "        \"\"\"\n",
    "        self.n=n\n",
    "        self.K=K\n",
    "        self.sigma=sigma\n",
    "        self.mu=mu\n",
    "        self.std=std\n",
    "    \n",
    "        \n",
    "    def Sigma(self,t:float,T:float)->float:\n",
    "        \"\"\"\n",
    "        returns:\n",
    "               The sigama of the P(t,T) under the Hull-white model.这是Hull-white model中最重要的变量之一，注意这是P(t,T)中的随机项，不是f(t,T)中的,\n",
    "               这里的Sigama对T求导即得到f(t,T)中的随机项。\n",
    "        \"\"\"\n",
    "        return self.sigma*(math.exp(-self.K*(T-t))-1)/self.K\n",
    "    \n",
    "    def delta_W(self)->list:\n",
    "        \"\"\"\n",
    "        Args:\n",
    "             The number of the simulated values.\n",
    "        Returns:\n",
    "               The list of simulated value of the delta_W.\n",
    "        \"\"\"\n",
    "        np.random.seed()  #这里没有用时间做种子，因为循环速度太快，导致了一个种子对应好几轮，进而出现伪随机数。\n",
    "        s = np.random.normal(self.mu, self.std, self.n)  #get the simulated values\n",
    "        return s"
   ]
  },
  {
   "cell_type": "code",
   "execution_count": 29,
   "metadata": {},
   "outputs": [],
   "source": [
    "class Monte_Carlo:\n",
    "    \"\"\"Monte_Carlo\n",
    "    A monte carlo to pricing the option of bond under Ho-Lee model.\n",
    "    \"\"\"\n",
    "    def __init__(self,T0:float=0.5,Tn:float=2,delta_t:float=0.5,coupon_rate:float=0.1,strike_price:float=0.2):\n",
    "        \"\"\"\n",
    "        Args:\n",
    "            T0(float):The maturity of the option.\n",
    "            Tn(float):The matturity of the bond.\n",
    "            delta_t(float):1/2 means there will be 2 coupon each year for the bond and 1/3 means 3 times.\n",
    "            coupon_rate(float):The coupon rate of the bond.\n",
    "            strike_price(float):The strike price of the option.\n",
    "        \"\"\"\n",
    "        self.T0=T0\n",
    "        self.Tn=Tn\n",
    "        self.delta_t=delta_t\n",
    "        self.coupon_rate=coupon_rate\n",
    "        self.strike_price=strike_price\n",
    "        \n",
    "    def get_PB(self,Ti:float,t:float=0)->float:\n",
    "        \"\"\"\n",
    "        Args:\n",
    "            Ti(float):依次进行折现，这是指已经循环到的时间。\n",
    "            t(float):指的是当前时间，如果是从开始计算就是0.\n",
    "            P_B_inti(float):The inital P_B value.参考PPT。\n",
    "        Returns:\n",
    "            得到的是对应Ti下的P(T0,Ti)/B(T0).\n",
    "        \"\"\"\n",
    "        P_B=P_B_init   #需要用到discount curve\n",
    "        n=int((self.T0-t)/self.delta_t)\n",
    "        para=parameter(n,0.035,0.12)\n",
    "        delta_W=para.delta_W()\n",
    "        t=0\n",
    "        for i in range(0,n):\n",
    "            P_B=P_B*math.exp(-0.5*(para.Sigma(t,Ti)**2)*self.delta_t+para.Sigma(t,Ti)*delta_W[i])\n",
    "            t+=self.delta_t\n",
    "        return P_B\n",
    "    \n",
    "    def get_payoff(self)->float:\n",
    "        \"\"\"\n",
    "        Returns:\n",
    "             求得每次模拟的payoff。\n",
    "        \"\"\"\n",
    "        n=int((self.Tn-self.T0)/self.delta_t)\n",
    "        EV=0 #指的是绝对payoff，即如果小于0就按照小于0表示。\n",
    "        for Ti in np.arange(self.T0+self.delta_t,self.Tn+self.delta_t,self.delta_t):  #这里的公式参考PPT\n",
    "            P_B=Monte_Carlo.get_PB(self,Ti)\n",
    "            EV=EV+P_B*self.coupon_rate*self.delta_t\n",
    "            if Ti==self.Tn:\n",
    "                EV=EV+P_B-self.strike_price*Monte_Carlo.get_PB(self,self.T0)  \n",
    "        payoff=max(0,EV) #将EV与0比较，取最大的即为到期的payoff\n",
    "        return payoff"
   ]
  },
  {
   "cell_type": "code",
   "execution_count": 30,
   "metadata": {},
   "outputs": [],
   "source": [
    "def main():\n",
    "    data=pd.DataFrame()\n",
    "    n=1000 #最多模拟的次数\n",
    "    for i in range(40,n,40):  #记录下不同模拟次数得到的结果\n",
    "        payoff_sum=0\n",
    "        for j in range(i):\n",
    "            MTC=Monte_Carlo()\n",
    "            payoff_sum+=MTC.get_payoff()\n",
    "            payoff=payoff_sum/i\n",
    "            data.loc[i,'payoff']=payoff\n",
    "    V0=data[data.index>500]['payoff'].mean() \n",
    "    print('The price of the call option should be around',V0) \n",
    "    \n",
    "    data['payoff']=data['payoff']\n",
    "    fig = plt.figure(figsize=[10,6])\n",
    "    ax= fig.add_subplot(1, 1, 1)\n",
    "    ax.plot(data['payoff'],c='r',label='payoff')\n",
    "    ax.legend()\n",
    "    ax.axhline(V0,c='b')\n",
    "    ax.set_xlabel('Times of simulation')\n",
    "    ax.set_ylabel('payoff')\n",
    "    ax.set_title('Pricing the bond option under one-factor Hull-white model b')"
   ]
  },
  {
   "cell_type": "code",
   "execution_count": 31,
   "metadata": {},
   "outputs": [
    {
     "name": "stdout",
     "output_type": "stream",
     "text": [
      "The price of the call option should be around 0.950836915653074\n"
     ]
    },
    {
     "data": {
      "image/png": "[encoded data removed]",
      "text/plain": [
       "<Figure size 720x432 with 1 Axes>"
      ]
     },
     "metadata": {
      "needs_background": "light"
     },
     "output_type": "display_data"
    }
   ],
   "source": [
    "if __name__==\"__main__\":\n",
    "    main()"
   ]
  },
  {
   "cell_type": "code",
   "execution_count": null,
   "metadata": {},
   "outputs": [],
   "source": []
  },
  {
   "cell_type": "code",
   "execution_count": null,
   "metadata": {},
   "outputs": [],
   "source": []
  }
 ],
 "metadata": {
  "kernelspec": {
   "display_name": "Python 3",
   "language": "python",
   "name": "python3"
  },
  "language_info": {
   "codemirror_mode": {
    "name": "ipython",
    "version": 3
   },
   "file_extension": ".py",
   "mimetype": "text/x-python",
   "name": "python",
   "nbconvert_exporter": "python",
   "pygments_lexer": "ipython3",
   "version": "3.8.5"
  },
  "toc": {
   "base_numbering": 1,
   "nav_menu": {},
   "number_sections": true,
   "sideBar": true,
   "skip_h1_title": false,
   "title_cell": "Table of Contents",
   "title_sidebar": "Contents",
   "toc_cell": false,
   "toc_position": {},
   "toc_section_display": true,
   "toc_window_display": false
  }
 },
 "nbformat": 4,
 "nbformat_minor": 4
}
